{
 "cells": [
  {
   "cell_type": "markdown",
   "metadata": {
    "colab_type": "text",
    "id": "view-in-github"
   },
   "source": [
    "<a href=\"https://colab.research.google.com/github/KaleabTessera/ICOOmen_ML_Model/blob/master/ICOData.ipynb\" target=\"_parent\"><img src=\"https://colab.research.google.com/assets/colab-badge.svg\" alt=\"Open In Colab\"/></a>"
   ]
  },
  {
   "cell_type": "markdown",
   "metadata": {
    "colab_type": "text",
    "id": "7g7sJiUDRCvH"
   },
   "source": [
    "# ICOOmen\n",
    "# A machine Learning Model to predict ICO prices"
   ]
  },
  {
   "cell_type": "markdown",
   "metadata": {},
   "source": [
    "## All imports and loading of dataset."
   ]
  },
  {
   "cell_type": "markdown",
   "metadata": {
    "colab_type": "text",
    "id": "6AUKrYxHRCvJ"
   },
   "source": [
    "### Importing Required Libraries and Creating data loading function."
   ]
  },
  {
   "cell_type": "code",
   "execution_count": 1,
   "metadata": {
    "colab": {},
    "colab_type": "code",
    "id": "x-eSx4kHRCvL"
   },
   "outputs": [],
   "source": [
    "%matplotlib inline\n",
    "import matplotlib.pyplot as plt\n",
    "import numpy as np"
   ]
  },
  {
   "cell_type": "code",
   "execution_count": 2,
   "metadata": {
    "colab": {},
    "colab_type": "code",
    "id": "Rel-TRhYRCvR"
   },
   "outputs": [],
   "source": [
    "from sklearn.neural_network import MLPRegressor\n",
    "from sklearn.metrics import mean_squared_error\n",
    "from math import sqrt\n",
    "from sklearn.model_selection import train_test_split\n",
    "from sklearn.preprocessing import StandardScaler\n",
    "from sklearn.neural_network import MLPClassifier\n",
    "from sklearn.metrics import classification_report,confusion_matrix\n",
    "from random import randint\n",
    "from datetime import datetime\n",
    "from enum import Enum\n",
    "import os"
   ]
  },
  {
   "cell_type": "code",
   "execution_count": 3,
   "metadata": {
    "colab": {},
    "colab_type": "code",
    "id": "kYLsqN58RCvU"
   },
   "outputs": [],
   "source": [
    "from sklearn import datasets, linear_model\n",
    "from sklearn.metrics import mean_squared_error, r2_score\n",
    "from sklearn.externals import joblib"
   ]
  },
  {
   "cell_type": "code",
   "execution_count": 4,
   "metadata": {
    "colab": {},
    "colab_type": "code",
    "id": "xizbWL0DRCvX"
   },
   "outputs": [],
   "source": [
    "class LineaReggressionMetrics(Enum):\n",
    "    R_SQUARED = 1\n",
    "    ROOT_MEAN_SQUARED_ERROR = 2"
   ]
  },
  {
   "cell_type": "code",
   "execution_count": 5,
   "metadata": {
    "colab": {},
    "colab_type": "code",
    "id": "9Vpx-mBARCva"
   },
   "outputs": [],
   "source": [
    "def load_dataset(dataset='./dataset/ico_data_final.csv'):\n",
    "    all_data = np.genfromtxt(fname=dataset, names=True, delimiter=',')\n",
    "    featureNames = all_data.dtype.names[1:-1]\n",
    "    ico_names = np.genfromtxt(fname=dataset, delimiter=',', usecols=0, dtype=str,skip_header=1)\n",
    "    all_data = np.genfromtxt(fname=dataset, delimiter=',',skip_header=1)[:,1:]\n",
    "    x = np.genfromtxt(fname=dataset, delimiter=',',skip_header=1)[:,1:-1]\n",
    "    y = np.genfromtxt(fname=dataset, delimiter=',',skip_header=1)[:,-1]\n",
    "    return (featureNames,x,y)"
   ]
  },
  {
   "cell_type": "markdown",
   "metadata": {
    "colab_type": "text",
    "id": "zmWzc3YkRCve"
   },
   "source": [
    "Investigating covariance between inputs and output."
   ]
  },
  {
   "cell_type": "code",
   "execution_count": 6,
   "metadata": {
    "colab": {},
    "colab_type": "code",
    "id": "AJM_ZyTaRCve"
   },
   "outputs": [],
   "source": [
    "def getCovarianceMatrixAndPrintScatterPlot(x,y,saveToFile=False):\n",
    "    nrows = x.shape[0]\n",
    "    ncols = x.shape[1]\n",
    "\n",
    "    for i in np.arange(ncols):\n",
    "        corCoef = np.corrcoef(x[:,i], y) \n",
    "        plt.xlabel(featureNames[i])\n",
    "        plt.ylabel(\"Price after 6 months(in $) \")\n",
    "        plt.suptitle('Scatter Plot of feature {:s} vs Price after 6 months'.format(featureNames[i]))\n",
    "        corr = \"Correlation Coefficient: \"+str(corCoef[0,1])\n",
    "        plt.title(corr)\n",
    "        plt.scatter(x[:,i], y)\n",
    "        if(saveToFile == True):\n",
    "            plt.savefig('images/{:s}_vs_Price_scatter_plot.png'.format(featureNames[i]))\n",
    "        else: \n",
    "            plt.show()\n",
    "        \n",
    "        plt.clf() "
   ]
  },
  {
   "cell_type": "code",
   "execution_count": 7,
   "metadata": {
    "colab": {},
    "colab_type": "code",
    "id": "ageejc9ZsOuu"
   },
   "outputs": [],
   "source": [
    "def createResultsFolderIfDoesntExist(folder):\n",
    "    if not os.path.exists(folder):\n",
    "      os.makedirs(folder)\n",
    "      #download best models from github - mainly for google colab\n",
    "      !wget https://github.com/KaleabTessera/ICOOmen_ML_Model/raw/master/results/bestRegressionModel_LineaReggressionMetrics.ROOT_MEAN_SQUARED_ERROR.sav -P \"./results/\"\n",
    "      !wget https://github.com/KaleabTessera/ICOOmen_ML_Model/raw/master/results/bestRegressionModel_LineaReggressionMetrics.R_SQUARED.sav -P \"./results/\" "
   ]
  },
  {
   "cell_type": "code",
   "execution_count": 8,
   "metadata": {
    "colab": {},
    "colab_type": "code",
    "id": "Z_fLNFhss2oA"
   },
   "outputs": [],
   "source": [
    "createResultsFolderIfDoesntExist(\"results/\")"
   ]
  },
  {
   "cell_type": "code",
   "execution_count": 9,
   "metadata": {},
   "outputs": [],
   "source": [
    "# Mainly for google colab\n",
    "def downloadDataifNotPresent(fileName='./dataset/ico_data_final.csv'):\n",
    "  exists = os.path.isfile(fileName)\n",
    "  if not exists:\n",
    "      !wget https://github.com/KaleabTessera/ICOOmen_ML_Model/raw/master/dataset/ico_data_final.csv -P \"./dataset/\""
   ]
  },
  {
   "cell_type": "code",
   "execution_count": 10,
   "metadata": {},
   "outputs": [],
   "source": [
    "downloadDataifNotPresent()"
   ]
  },
  {
   "cell_type": "code",
   "execution_count": null,
   "metadata": {},
   "outputs": [],
   "source": [
    "def loadOrSaveModel(model,fileName):\n",
    "    exists = os.path.isfile(fileName)\n",
    "    if exists:    \n",
    "        # Load a model if it exists.\n",
    "        bestSavedModel = joblib.load(fileName)\n",
    "        return bestSavedModel\n",
    "    else:\n",
    "        # Save the model.\n",
    "        joblib.dump(model, fileName)\n",
    "        return model"
   ]
  },
  {
   "cell_type": "code",
   "execution_count": 292,
   "metadata": {},
   "outputs": [],
   "source": [
    "def loadModel(fileName):\n",
    "    exists = os.path.isfile(fileName)\n",
    "    if exists:    \n",
    "        # Load a model if it exists.\n",
    "        return joblib.load(fileName)\n",
    "    else:\n",
    "        return None"
   ]
  },
  {
   "cell_type": "code",
   "execution_count": 312,
   "metadata": {},
   "outputs": [],
   "source": [
    "def makePrediction(model,example_to_predict):\n",
    "    encoded_x = encodeSingleElement(x,example_to_predict)\n",
    "    y_pred = model.predict(encoded_x.reshape(1, -1))\n",
    "    \n",
    "    return y_pred"
   ]
  },
  {
   "cell_type": "markdown",
   "metadata": {
    "colab_type": "text",
    "id": "-kpDXRqqRCvi"
   },
   "source": [
    "### Loading ICO dataset"
   ]
  },
  {
   "cell_type": "code",
   "execution_count": 11,
   "metadata": {
    "colab": {},
    "colab_type": "code",
    "id": "Zv41w5KYRCvi"
   },
   "outputs": [],
   "source": [
    "featureNames,x,y = load_dataset()"
   ]
  },
  {
   "cell_type": "markdown",
   "metadata": {
    "colab_type": "text",
    "id": "Lv5PY5mKRCvo"
   },
   "source": [
    "## Print Scatter plots of inputs vs output"
   ]
  },
  {
   "cell_type": "code",
   "execution_count": null,
   "metadata": {
    "colab": {
     "base_uri": "https://localhost:8080/",
     "height": 3527
    },
    "colab_type": "code",
    "id": "tQNiqjGtRCvp",
    "outputId": "3e3020cc-cead-4e0c-d54d-28061b6d1b85"
   },
   "outputs": [],
   "source": [
    "getCovarianceMatrixAndPrintScatterPlot(x,y)"
   ]
  },
  {
   "cell_type": "markdown",
   "metadata": {
    "colab_type": "text",
    "id": "QAhDm583RCvu"
   },
   "source": [
    "# One hot encoding of categorical fields\n"
   ]
  },
  {
   "cell_type": "code",
   "execution_count": 12,
   "metadata": {
    "colab": {},
    "colab_type": "code",
    "id": "4zJzXzxCKtd-"
   },
   "outputs": [],
   "source": [
    "from sklearn.preprocessing import OneHotEncoder\n",
    "\n",
    "def encodeData(x):\n",
    "    enc = OneHotEncoder(categorical_features='all',\n",
    "           handle_unknown='error', sparse=False)\n",
    "\n",
    "\n",
    "    encodedCategoryArray= enc.fit_transform(x[:,8:12])\n",
    "    allInputsExceptCategorical = np.delete(x, np.s_[8:12], axis=1)\n",
    "    encodedX = np.concatenate((allInputsExceptCategorical,encodedCategoryArray),axis=1)\n",
    "    return encodedX\n",
    "\n",
    "def encodeSingleElement(x,sample):\n",
    "    enc = OneHotEncoder(categorical_features='all',\n",
    "           handle_unknown='error', sparse=False)\n",
    "\n",
    "\n",
    "    encodedCategoryArray= enc.fit(x[:,8:12])\n",
    "    allInputsExceptCategorical = np.delete(sample, np.s_[8:12], axis=0)\n",
    "    \n",
    "    encodedCategories  = enc.transform(sample[8:12].reshape(1, -1))\n",
    "    encodedX = np.concatenate((allInputsExceptCategorical,encodedCategories.flatten()),axis=0)\n",
    "    return encodedX"
   ]
  },
  {
   "cell_type": "code",
   "execution_count": 13,
   "metadata": {},
   "outputs": [],
   "source": [
    "encodedX = encodeData(x)"
   ]
  },
  {
   "cell_type": "markdown",
   "metadata": {
    "colab_type": "text",
    "id": "ma-krLvqRCvw"
   },
   "source": [
    "## Function to Plot Performace"
   ]
  },
  {
   "cell_type": "code",
   "execution_count": 14,
   "metadata": {
    "colab": {},
    "colab_type": "code",
    "id": "roviDW9fRCvx"
   },
   "outputs": [],
   "source": [
    "def plotExpectedVsPredictedOutput(y_test,y_pred,fileName='',saveToFile=False):\n",
    "    fig, ax = plt.subplots(figsize=(10,10))\n",
    "    ax.scatter(y_test, y_pred,alpha=0.8,edgecolors=(0, 0, 0),s=30)\n",
    "    ax.plot([y_pred.min(), y_pred.max()], [y_pred.min(), y_pred.max()], 'k--', lw=2)\n",
    "    ax.set_xlabel('Measured')\n",
    "    ax.set_ylabel('Predicted')\n",
    "    plt.xlim(-10, 10)\n",
    "    plt.ylim(-10, 10)\n",
    "    plt.title(fileName)\n",
    "    if(saveToFile == True):\n",
    "        plt.savefig('images/'+fileName+\".png\")\n",
    "    else: \n",
    "        plt.show()\n"
   ]
  },
  {
   "cell_type": "markdown",
   "metadata": {
    "colab_type": "text",
    "id": "qvyJA3SDRCvz"
   },
   "source": [
    "# Train/Test Split and Cross Validation\n",
    "Following - 80/20 split cross validation and test data. Then later, the cross validation data will also be split 80/20 to follow the holdout method."
   ]
  },
  {
   "cell_type": "code",
   "execution_count": 186,
   "metadata": {
    "colab": {},
    "colab_type": "code",
    "id": "w2ELwsqWRCv1"
   },
   "outputs": [],
   "source": [
    "X_cross, X_test_holdout, y_cross, y_test_holdout = train_test_split(encodedX, y,test_size=0.2,train_size=0.8)\n"
   ]
  },
  {
   "cell_type": "markdown",
   "metadata": {
    "colab_type": "text",
    "id": "Rd_KM8X4RCvz"
   },
   "source": [
    "# Linear Regression - implementation"
   ]
  },
  {
   "cell_type": "markdown",
   "metadata": {
    "colab_type": "text",
    "id": "DDg0DBLPRCv4"
   },
   "source": [
    "## Linear Regression with train/test split - 80/20 split on Training Data"
   ]
  },
  {
   "cell_type": "code",
   "execution_count": null,
   "metadata": {
    "colab": {},
    "colab_type": "code",
    "id": "jkJleoMhRCv4"
   },
   "outputs": [],
   "source": [
    "def ridgeRegression(x,y):\n",
    "    \n",
    "    X_train, X_test, y_train, y_test = train_test_split(x, y,test_size=0.2,train_size=0.8)\n",
    "\n",
    "    regr = linear_model.Ridge(solver='svd')\n",
    "    regr.fit(X_train, y_train)\n",
    "    y_pred = regr.predict(X_test)\n",
    "\n",
    "    r2 = r2_score(y_test, y_pred)\n",
    "    rMeanSquaredError = sqrt(mean_squared_error(y_test, y_pred))\n",
    "    return regr,regr.coef_,rMeanSquaredError,r2,X_test,y_test,y_pred"
   ]
  },
  {
   "cell_type": "markdown",
   "metadata": {
    "colab_type": "text",
    "id": "vrsnKWuSRCv8"
   },
   "source": [
    "## Function to optimize results"
   ]
  },
  {
   "cell_type": "code",
   "execution_count": null,
   "metadata": {},
   "outputs": [],
   "source": [
    "## Save model only if it is performs better than current saved model\n",
    "def saveBestModel(model,fileName):\n",
    "    exists = os.path.isfile(fileName)\n",
    "    if exists:    \n",
    "        bestSavedRegressionModel = joblib.load(fileName)\n",
    "    else:\n",
    "        joblib.dump(model, fileName)\n",
    "        return\n",
    "    \n",
    "    #Scores for saved model\n",
    "    y_pred_holdout_saved_model = bestSavedRegressionModel.predict(X_test_holdout)\n",
    "    rSquared_saved_model = r2_score(y_test_holdout, y_pred_holdout_saved_model)\n",
    "    rMse_saved_model = sqrt(mean_squared_error(y_test_holdout, y_pred_holdout_saved_model))\n",
    "    \n",
    "    #Scores for new model\n",
    "    y_pred_holdout_new_model = model.predict(X_test_holdout)\n",
    "    rSquared_new_model = r2_score(y_test_holdout, y_pred_holdout_new_model)\n",
    "    rMse_new_model = sqrt(mean_squared_error(y_test_holdout, y_pred_holdout_new_model))\n",
    "    \n",
    "    # Check if we saving to file with best rMse or rSquared value    \n",
    "    if(str(LineaReggressionMetrics.ROOT_MEAN_SQUARED_ERROR.name) in fileName):\n",
    "        if(rMse_new_model < rMse_saved_model):\n",
    "            joblib.dump(model, fileName) \n",
    "    else:\n",
    "        if(rSquared_new_model < rSquared_saved_model):\n",
    "            joblib.dump(model, fileName)\n",
    "    "
   ]
  },
  {
   "cell_type": "code",
   "execution_count": null,
   "metadata": {
    "colab": {},
    "colab_type": "code",
    "id": "4Rzwj0T2RCv8"
   },
   "outputs": [],
   "source": [
    "def ridgeRegressionRunnerOptimize(metricToOptimize,numIterations,x,y,showOutput = True,saveToFile=False):\n",
    "    maxRSquared = -10000\n",
    "    rMSEMin = 10000\n",
    "    bestPredY = 0\n",
    "    bestRegressionCoef = np.array([])\n",
    "    for i in np.arange(numIterations):\n",
    "        bestRegression,regressionCoef,rootMeanSquaredError,rSquared,X_test,y_test,y_pred = ridgeRegression(x,y)\n",
    "#         if you are looking for best rMSE\n",
    "        if(metricToOptimize == LineaReggressionMetrics.ROOT_MEAN_SQUARED_ERROR):\n",
    "            if(rootMeanSquaredError < rMSEMin ):\n",
    "                rMSEMin = rootMeanSquaredError\n",
    "                bestPredY = y_pred\n",
    "                bestRegressionCoef = regressionCoef\n",
    "            if(showOutput):\n",
    "                print(i,\"bestrMSE:\",rMSEMin)\n",
    "#         if you are looking for best rSquared Value\n",
    "        else:\n",
    "            if(rSquared > maxRSquared ):\n",
    "                maxRSquared = rSquared\n",
    "                bestPredY = y_pred\n",
    "                bestRegressionCoef = regressionCoef\n",
    "            if(showOutput):\n",
    "                print(i,\"bestRSquared:\",maxRSquared)\n",
    "    \n",
    "    fileName = ''\n",
    "    crossValidationR2Squared = r2_score(y_test, y_pred)\n",
    "    crossValidationMeanSquaredError = sqrt(mean_squared_error(y_test, y_pred))\n",
    "    \n",
    "    if(metricToOptimize == LineaReggressionMetrics.ROOT_MEAN_SQUARED_ERROR):\n",
    "        print(\" \\n Best rMSE: {:f} \\n ,after running linear regression {:d} different times with different test and training combinations\"\n",
    "              .format(rMSEMin,numIterations))\n",
    "        print(\" \\n Best rMSE using holdout data: {:f} \\n ,after running linear regression {:d} different times with different test and training combinations\"\n",
    "              .format(crossValidationMeanSquaredError,numIterations))\n",
    "    else: \n",
    "        print(\" \\n Best RSquared: {:f} \\n ,after running linear regression {:d} different times with different test and training combinations\"\n",
    "              .format(maxRSquared,numIterations))\n",
    "        print(\" \\n Best RSquared using holdout data: {:f} \\n ,after running linear regression {:d} different times with different test and training combinations\"\n",
    "              .format(crossValidationR2Squared,numIterations))\n",
    "    \n",
    "    if(showOutput):\n",
    "        print(\" \\n Best regression coef:\",bestRegressionCoef,\"\\n\")\n",
    "    \n",
    "    #Save Best Model\n",
    "    fileName = \"results/\" + \"bestRegressionModel_\" + str(metricToOptimize) + \".sav\"\n",
    "    saveBestModel(bestRegression, fileName)"
   ]
  },
  {
   "cell_type": "markdown",
   "metadata": {
    "colab_type": "text",
    "id": "yv7ERm7DRCv_"
   },
   "source": [
    "## Best root mean squared error \n",
    "After running linear regression with n different combinations of training and test data"
   ]
  },
  {
   "cell_type": "code",
   "execution_count": null,
   "metadata": {
    "colab": {
     "base_uri": "https://localhost:8080/",
     "height": 125
    },
    "colab_type": "code",
    "id": "2KsCVIjPRCwA",
    "outputId": "cb7578a9-22f5-4d71-a9d3-913b8ff8fc85"
   },
   "outputs": [],
   "source": [
    "n = 10000 #Decreased to run faster if tested.\n",
    "showOutput = False\n",
    "saveToFile = False\n",
    "ridgeRegressionRunnerOptimize(LineaReggressionMetrics.ROOT_MEAN_SQUARED_ERROR,n,X_cross,y_cross,showOutput,saveToFile)\n"
   ]
  },
  {
   "cell_type": "markdown",
   "metadata": {
    "colab_type": "text",
    "id": "KXmFrBAyRCwC"
   },
   "source": [
    "## Best RSquared Score over n interations\n",
    "After running linear regression with n different combinations of training and test data"
   ]
  },
  {
   "cell_type": "code",
   "execution_count": null,
   "metadata": {
    "colab": {
     "base_uri": "https://localhost:8080/",
     "height": 125
    },
    "colab_type": "code",
    "id": "B-N-WVLMRCwC",
    "outputId": "eeb42698-0fe5-4bc1-cd70-88570194524e"
   },
   "outputs": [],
   "source": [
    "n = 10000 #Decreased to run faster if tested.\n",
    "showOutput = False\n",
    "saveToFile = False\n",
    "ridgeRegressionRunnerOptimize(LineaReggressionMetrics.R_SQUARED,n,X_cross,y_cross,showOutput,saveToFile)"
   ]
  },
  {
   "cell_type": "markdown",
   "metadata": {
    "colab_type": "text",
    "id": "NX-22rTktyd_"
   },
   "source": [
    "## Load Saved Linear Regression Models and Print out performance"
   ]
  },
  {
   "cell_type": "code",
   "execution_count": null,
   "metadata": {
    "colab": {},
    "colab_type": "code",
    "id": "xnNXmKf-ts6e"
   },
   "outputs": [],
   "source": [
    "## Load model with best root mean squared error score \n",
    "fileName = \"results/\" + \"bestRegressionModel_\" + str(LineaReggressionMetrics.ROOT_MEAN_SQUARED_ERROR.name) + \".sav\"\n",
    "bestRegression = joblib.load(fileName)\n",
    "\n",
    "y_pred_holdout = bestRegression.predict(X_test_holdout)\n",
    "holdOutMeanSquaredError = sqrt(mean_squared_error(y_test_holdout, y_pred_holdout))\n",
    "heading = \"Best_rMSE_linear_regression_\" + str(holdOutMeanSquaredError)\n",
    "plotExpectedVsPredictedOutput(y_test_holdout,y_pred_holdout,heading,saveToFile)\n",
    "\n",
    "## Load model with best rSquared Score\n",
    "fileName = \"results/\" + \"bestRegressionModel_\" + str(LineaReggressionMetrics.R_SQUARED.name) + \".sav\"\n",
    "bestRegression = joblib.load(fileName)\n",
    "\n",
    "y_pred_holdout = bestRegression.predict(X_test_holdout)\n",
    "holdOutValidationR2Squared = r2_score(y_test_holdout, y_pred_holdout)\n",
    "heading = \"Best_rRSquared_linear_regression_\" + str(holdOutValidationR2Squared)\n",
    "plotExpectedVsPredictedOutput(y_test_holdout,y_pred_holdout,heading,saveToFile)"
   ]
  },
  {
   "cell_type": "markdown",
   "metadata": {},
   "source": [
    "# Use Model to make prediction - Value of ICO after 6 months"
   ]
  },
  {
   "cell_type": "code",
   "execution_count": 316,
   "metadata": {},
   "outputs": [
    {
     "ename": "FileNotFoundError",
     "evalue": "[Errno 2] No such file or directory: 'results/bestRegressionModel_ROOT_MEAN_SQUARED_ERROR.sav'",
     "output_type": "error",
     "traceback": [
      "\u001b[0;31m---------------------------------------------------------------------------\u001b[0m",
      "\u001b[0;31mFileNotFoundError\u001b[0m                         Traceback (most recent call last)",
      "\u001b[0;32m<ipython-input-316-c19ef512d3b2>\u001b[0m in \u001b[0;36m<module>\u001b[0;34m()\u001b[0m\n\u001b[1;32m      1\u001b[0m \u001b[0;31m# Load model with best rMse and make prediction\u001b[0m\u001b[0;34m\u001b[0m\u001b[0;34m\u001b[0m\u001b[0m\n\u001b[1;32m      2\u001b[0m \u001b[0mfileName\u001b[0m \u001b[0;34m=\u001b[0m \u001b[0;34m\"results/\"\u001b[0m \u001b[0;34m+\u001b[0m \u001b[0;34m\"bestRegressionModel_\"\u001b[0m \u001b[0;34m+\u001b[0m \u001b[0mstr\u001b[0m\u001b[0;34m(\u001b[0m\u001b[0mLineaReggressionMetrics\u001b[0m\u001b[0;34m.\u001b[0m\u001b[0mROOT_MEAN_SQUARED_ERROR\u001b[0m\u001b[0;34m.\u001b[0m\u001b[0mname\u001b[0m\u001b[0;34m)\u001b[0m \u001b[0;34m+\u001b[0m \u001b[0;34m\".sav\"\u001b[0m\u001b[0;34m\u001b[0m\u001b[0m\n\u001b[0;32m----> 3\u001b[0;31m \u001b[0mbestRegression\u001b[0m \u001b[0;34m=\u001b[0m \u001b[0mjoblib\u001b[0m\u001b[0;34m.\u001b[0m\u001b[0mload\u001b[0m\u001b[0;34m(\u001b[0m\u001b[0mfileName\u001b[0m\u001b[0;34m)\u001b[0m\u001b[0;34m\u001b[0m\u001b[0m\n\u001b[0m\u001b[1;32m      4\u001b[0m \u001b[0;34m\u001b[0m\u001b[0m\n\u001b[1;32m      5\u001b[0m \u001b[0;31m#Example ICO\u001b[0m\u001b[0;34m\u001b[0m\u001b[0;34m\u001b[0m\u001b[0m\n",
      "\u001b[0;32m~/anaconda3/lib/python3.6/site-packages/sklearn/externals/joblib/numpy_pickle.py\u001b[0m in \u001b[0;36mload\u001b[0;34m(filename, mmap_mode)\u001b[0m\n\u001b[1;32m    568\u001b[0m             \u001b[0mobj\u001b[0m \u001b[0;34m=\u001b[0m \u001b[0m_unpickle\u001b[0m\u001b[0;34m(\u001b[0m\u001b[0mfobj\u001b[0m\u001b[0;34m)\u001b[0m\u001b[0;34m\u001b[0m\u001b[0m\n\u001b[1;32m    569\u001b[0m     \u001b[0;32melse\u001b[0m\u001b[0;34m:\u001b[0m\u001b[0;34m\u001b[0m\u001b[0m\n\u001b[0;32m--> 570\u001b[0;31m         \u001b[0;32mwith\u001b[0m \u001b[0mopen\u001b[0m\u001b[0;34m(\u001b[0m\u001b[0mfilename\u001b[0m\u001b[0;34m,\u001b[0m \u001b[0;34m'rb'\u001b[0m\u001b[0;34m)\u001b[0m \u001b[0;32mas\u001b[0m \u001b[0mf\u001b[0m\u001b[0;34m:\u001b[0m\u001b[0;34m\u001b[0m\u001b[0m\n\u001b[0m\u001b[1;32m    571\u001b[0m             \u001b[0;32mwith\u001b[0m \u001b[0m_read_fileobject\u001b[0m\u001b[0;34m(\u001b[0m\u001b[0mf\u001b[0m\u001b[0;34m,\u001b[0m \u001b[0mfilename\u001b[0m\u001b[0;34m,\u001b[0m \u001b[0mmmap_mode\u001b[0m\u001b[0;34m)\u001b[0m \u001b[0;32mas\u001b[0m \u001b[0mfobj\u001b[0m\u001b[0;34m:\u001b[0m\u001b[0;34m\u001b[0m\u001b[0m\n\u001b[1;32m    572\u001b[0m                 \u001b[0;32mif\u001b[0m \u001b[0misinstance\u001b[0m\u001b[0;34m(\u001b[0m\u001b[0mfobj\u001b[0m\u001b[0;34m,\u001b[0m \u001b[0m_basestring\u001b[0m\u001b[0;34m)\u001b[0m\u001b[0;34m:\u001b[0m\u001b[0;34m\u001b[0m\u001b[0m\n",
      "\u001b[0;31mFileNotFoundError\u001b[0m: [Errno 2] No such file or directory: 'results/bestRegressionModel_ROOT_MEAN_SQUARED_ERROR.sav'"
     ]
    }
   ],
   "source": [
    "# Load model with best rMse and make prediction\n",
    "fileName = \"results/\" + \"bestRegressionModel_\" + str(LineaReggressionMetrics.ROOT_MEAN_SQUARED_ERROR.name) + \".sav\"\n",
    "bestRegression = joblib.load(fileName)\n",
    "\n",
    "#Example ICO\n",
    "example_x = np.array([1.71456,0.00019931,1000000000,905793616,528295082,24000000,297.63,3420.4,7,8,9,182])\n",
    "\n",
    "y_pred = makePrediction(bestRegression,example_x)\n",
    "\n",
    "print(\"Predicted value of example ICO after 6 months: \",y_pred )"
   ]
  },
  {
   "cell_type": "markdown",
   "metadata": {
    "colab_type": "text",
    "id": "BnH3PLdnRCwF"
   },
   "source": [
    "# Neural Network - implementation"
   ]
  },
  {
   "cell_type": "markdown",
   "metadata": {},
   "source": [
    "Functions to run NN with different configurations. "
   ]
  },
  {
   "cell_type": "code",
   "execution_count": 298,
   "metadata": {
    "colab": {},
    "colab_type": "code",
    "id": "l8w53FvfRCwG"
   },
   "outputs": [],
   "source": [
    "class Activations(Enum):\n",
    "    identity = 1\n",
    "    logistic = 2\n",
    "    tanh    = 3\n",
    "    relu = 4\n",
    "\n",
    "class Solvers(Enum):\n",
    "    lbfgs = 1\n",
    "    sgd = 2\n",
    "    adam = 3"
   ]
  },
  {
   "cell_type": "code",
   "execution_count": 299,
   "metadata": {},
   "outputs": [],
   "source": [
    "## Save model only if it is performs better than current saved model\n",
    "def saveBestModelNN(model,fileName):\n",
    "    exists = os.path.isfile(fileName)\n",
    "    if exists:    \n",
    "        # Load best saved model.\n",
    "        bestSavedNNModel = joblib.load(fileName)\n",
    "    else:\n",
    "        # Save current model and return.\n",
    "        joblib.dump(model, fileName)\n",
    "        return\n",
    "    \n",
    "    #Scores for saved model\n",
    "    y_pred_holdout_saved_model = bestSavedNNModel.predict(X_test_holdout)\n",
    "    rSquared_saved_model = r2_score(y_test_holdout, y_pred_holdout_saved_model)\n",
    "    rMse_saved_model = sqrt(mean_squared_error(y_test_holdout, y_pred_holdout_saved_model))\n",
    "    \n",
    "    #Scores for new model\n",
    "    y_pred_holdout_new_model = model.predict(X_test_holdout)\n",
    "    rSquared_new_model = r2_score(y_test_holdout, y_pred_holdout_new_model)\n",
    "    rMse_new_model = sqrt(mean_squared_error(y_test_holdout, y_pred_holdout_new_model))\n",
    "    \n",
    "    # Check if we saving to file with best rMse or rSquared value    \n",
    "    if(str(LineaReggressionMetrics.ROOT_MEAN_SQUARED_ERROR.name) in fileName):\n",
    "        if(rMse_new_model < rMse_saved_model):\n",
    "            joblib.dump(model, fileName) \n",
    "    else:\n",
    "        if(rSquared_new_model < rSquared_saved_model):\n",
    "            joblib.dump(model, fileName)\n",
    "    "
   ]
  },
  {
   "cell_type": "code",
   "execution_count": 300,
   "metadata": {
    "colab": {},
    "colab_type": "code",
    "id": "gYySmJklRCwI"
   },
   "outputs": [],
   "source": [
    "def runNN(x_input,y_input,randomState,hidden_layer_size,chosen_solver,chosen_activation):\n",
    "    X_train, X_test, y_train, y_test = train_test_split(x_input, y_input,test_size=0.2,train_size=0.8,random_state=randomState)\n",
    "\n",
    "    mlp = MLPRegressor(hidden_layer_sizes=(hidden_layer_size,hidden_layer_size,hidden_layer_size),max_iter=50000,activation=chosen_activation,\n",
    "                                 solver=chosen_solver,learning_rate='adaptive',tol=0.01)\n",
    "    mlp.fit(X_train,y_train)\n",
    "    y_pred = mlp.predict(X_test)\n",
    "    \n",
    "    R2coefficient = mlp.score(X_test, y_test)\n",
    "    rMeanSquaredError = sqrt(mean_squared_error(y_test, y_pred))\n",
    "    weights = mlp.coefs_\n",
    "    \n",
    "    return y_pred,R2coefficient,rMeanSquaredError,mlp,y_test"
   ]
  },
  {
   "cell_type": "code",
   "execution_count": 301,
   "metadata": {},
   "outputs": [],
   "source": [
    "def runNeuralNetOptimizer(metricToOptimize,x_input,y_input,maxIterations,maxHiddenLayerSize, activation, solver, hiddenLayerStepSize=100,showOutput=False):\n",
    "    bestPred = np.array([])\n",
    "    bestWeights = np.array([])\n",
    "    y_actual = np.array([])\n",
    "    bestNeuralNetworkModel = None\n",
    "    newModelIsBetterUsingMetric = False\n",
    "    minrMSE = 10000\n",
    "    minR2coefficient = -1000\n",
    "    \n",
    "    # Running the NN with various different hidden layer sizes    \n",
    "    indexOfBestInteraction = 0\n",
    "    for i in np.arange(maxIterations):\n",
    "             for hidden_layer_size in np.arange(1,maxHiddenLayerSize,hiddenLayerStepSize):\n",
    "                randomState = 42\n",
    "                chosen_activation = activation\n",
    "                chosen_solver =   solver\n",
    "                y_pred,currentR2coefficient,currentrMSE,neuralNetworkModel,y_test = runNN(x_input,y_input,randomState,hidden_layer_size,chosen_solver,chosen_activation)\n",
    "                \n",
    "                # Check depends on what parameter you want to optimize\n",
    "                if(metricToOptimize == LineaReggressionMetrics.ROOT_MEAN_SQUARED_ERROR):\n",
    "                    if(minrMSE >currentrMSE ):\n",
    "                        newModelIsBetterUsingMetric = True\n",
    "                else:\n",
    "                    if(minR2coefficient <currentR2coefficient ):\n",
    "                        newModelIsBetterUsingMetric = True\n",
    "                        \n",
    "                        \n",
    "                if(newModelIsBetterUsingMetric):\n",
    "                        minrMSE = currentrMSE\n",
    "                        minR2coefficient = currentR2coefficient\n",
    "                        bestNeuralNetworkModel=neuralNetworkModel\n",
    "                        bestRandomStateIni = randomState\n",
    "                        bestNumHiddenLayers = hidden_layer_size\n",
    "                        indexOfBestInteraction = i\n",
    "                        bestPred =y_pred \n",
    "                        y_actual = y_test\n",
    "                        \n",
    "    if(bestNeuralNetworkModel):\n",
    "        #Best values for NN test\n",
    "        print(\"Best rMSE for NN, using test data: \" + str(minrMSE))\n",
    "        print(\"Best rSquared for NN, using test data:\" + str(minR2coefficient))\n",
    "\n",
    "        #Best values for NN using cross validation\n",
    "        y_pred_holdout = bestNeuralNetworkModel.predict(X_test_holdout)\n",
    "        R2coefficientHoldout = bestNeuralNetworkModel.score(X_test_holdout, y_test_holdout)\n",
    "        rMeanSquaredErrorHoldout = sqrt(mean_squared_error(y_test_holdout, y_pred_holdout))\n",
    "        \n",
    "        print(\"Best rMSE for NN, using holdout data: \" + str(rMeanSquaredErrorHoldout))\n",
    "        print(\"Best rSquared for NN, using holdout data: \" + str(R2coefficientHoldout))\n",
    "        \n",
    "        #Save best model\n",
    "        fileName = \"results/\" + \"bestNNModel_\" + str(metricToOptimize.name)+\".sav\"\n",
    "        saveBestModelNN(bestNeuralNetworkModel,fileName)"
   ]
  },
  {
   "cell_type": "code",
   "execution_count": 302,
   "metadata": {},
   "outputs": [],
   "source": [
    "def runNeuralNetOptimizations2(x_input,y_input,maxIterations,maxHiddenLayerSize, activation, solver, metricToOptimize, hiddenLayerStepSize=100,showOutput=False,writeToFile=False):\n",
    "    runNeuralNetOptimizer(metricToOptimize,x_input,y_input,maxIterations,maxHiddenLayerSize, activation, solver, hiddenLayerStepSize,showOutput)"
   ]
  },
  {
   "cell_type": "code",
   "execution_count": 303,
   "metadata": {
    "colab": {},
    "colab_type": "code",
    "id": "lsa9-wlCRCwP"
   },
   "outputs": [],
   "source": [
    "# Commented out so that if run, it would complete in adequate time\n",
    "# maxIterations = 5\n",
    "# maxHiddenLayerSize = 1000\n",
    "# hiddenLayerStepSize = 20\n",
    "maxIterations = 5\n",
    "maxHiddenLayerSize = 200\n",
    "hiddenLayerStepSize = 50"
   ]
  },
  {
   "cell_type": "code",
   "execution_count": 304,
   "metadata": {},
   "outputs": [],
   "source": [
    "def findBestParametersNN(metricToOptimize):\n",
    "    y_preds = np.array([])\n",
    "    rMse = np.array([])\n",
    "    y_actual = np.array([])\n",
    "\n",
    "    # Using Identity activation function, with Adam Solver\n",
    "    print(\"Using Identity activation function, with Adam Solver\")\n",
    "    runNeuralNetOptimizations2(X_cross,y_cross,maxIterations,maxHiddenLayerSize,Activations.identity.name,Solvers.adam.name,metricToOptimize,hiddenLayerStepSize)\n",
    "    print(\"\\n\")\n",
    "    \n",
    "    # Using tanh activation function, with Adam Solver\n",
    "    print(\"Using tanh activation function, with Adam Solver\")\n",
    "    runNeuralNetOptimizations2(X_cross,y_cross,maxIterations,maxHiddenLayerSize,Activations.tanh.name,Solvers.adam.name,metricToOptimize,hiddenLayerStepSize)\n",
    "    print(\"\\n\")\n",
    "    \n",
    "    # Using tanh activation function, with Gradient Descent Solver\n",
    "    print(\"Using tanh activation function, with Gradient Descent Solver\")\n",
    "    runNeuralNetOptimizations2(X_cross,y_cross,maxIterations,maxHiddenLayerSize,Activations.tanh.name,Solvers.sgd.name,metricToOptimize,hiddenLayerStepSize)\n",
    "    print(\"\\n\")\n",
    "    \n",
    "    # Using relu activation function, with Adam Solver\n",
    "    print(\"Using relu activation function, with Adam Solver\")\n",
    "    runNeuralNetOptimizations2(X_cross,y_cross,maxIterations,maxHiddenLayerSize,Activations.relu.name,Solvers.adam.name,metricToOptimize,hiddenLayerStepSize)\n",
    "    print(\"\\n\")"
   ]
  },
  {
   "cell_type": "markdown",
   "metadata": {
    "colab_type": "text",
    "id": "sfWkG05WRCwQ"
   },
   "source": [
    "# Finding best parameters for NN - rMSE"
   ]
  },
  {
   "cell_type": "code",
   "execution_count": 305,
   "metadata": {},
   "outputs": [
    {
     "name": "stdout",
     "output_type": "stream",
     "text": [
      "Using Identity activation function, with Adam Solver\n",
      "Best rMSE for NN, using test data: 170737213.95236352\n",
      "Best rSquared for NN, using test data:-1369471736406703.2\n",
      "Best rMSE for NN, using holdout data: 84468211.24653853\n",
      "Best rSquared for NN, using holdout data: -5826926685594015.0\n",
      "\n",
      "\n",
      "Using tanh activation function, with Adam Solver\n",
      "Best rMSE for NN, using test data: 2.681189040683202\n",
      "Best rSquared for NN, using test data:0.6622840566999808\n",
      "Best rMSE for NN, using holdout data: 1.5799753720003527\n",
      "Best rSquared for NN, using holdout data: -1.0387012719789563\n",
      "\n",
      "\n",
      "Using tanh activation function, with Gradient Descent Solver\n",
      "Best rMSE for NN, using test data: 3.771114112104913\n",
      "Best rSquared for NN, using test data:0.33190835438277433\n",
      "Best rMSE for NN, using holdout data: 1.081981952105777\n",
      "Best rSquared for NN, using holdout data: 0.04392273215577048\n",
      "\n",
      "\n",
      "Using relu activation function, with Adam Solver\n",
      "Best rMSE for NN, using test data: 17599459.291058227\n",
      "Best rSquared for NN, using test data:-14551083840790.957\n",
      "Best rMSE for NN, using holdout data: 7833801.2464552345\n",
      "Best rSquared for NN, using holdout data: -50118499085549.36\n",
      "\n",
      "\n"
     ]
    }
   ],
   "source": [
    "findBestParametersNN(LineaReggressionMetrics.ROOT_MEAN_SQUARED_ERROR)"
   ]
  },
  {
   "cell_type": "markdown",
   "metadata": {
    "colab_type": "text",
    "id": "-N4-iNbERCw0"
   },
   "source": [
    "# Finding best parameters for NN - RSquared"
   ]
  },
  {
   "cell_type": "code",
   "execution_count": 306,
   "metadata": {},
   "outputs": [
    {
     "name": "stdout",
     "output_type": "stream",
     "text": [
      "Using Identity activation function, with Adam Solver\n",
      "Best rMSE for NN, using test data: 14888104.981866093\n",
      "Best rSquared for NN, using test data:-10412992071949.5\n",
      "Best rMSE for NN, using holdout data: 12636103.718678862\n",
      "Best rSquared for NN, using holdout data: -130400519942861.12\n",
      "\n",
      "\n",
      "Using tanh activation function, with Adam Solver\n",
      "Best rMSE for NN, using test data: 3.511283080491398\n",
      "Best rSquared for NN, using test data:0.42080023055636573\n",
      "Best rMSE for NN, using holdout data: 0.823293251809971\n",
      "Best rSquared for NN, using holdout data: 0.44644335248242284\n",
      "\n",
      "\n",
      "Using tanh activation function, with Gradient Descent Solver\n",
      "Best rMSE for NN, using test data: 3.311499748092908\n",
      "Best rSquared for NN, using test data:0.48483524228196584\n",
      "Best rMSE for NN, using holdout data: 1.3919944306783463\n",
      "Best rSquared for NN, using holdout data: -0.58244255860154\n",
      "\n",
      "\n",
      "Using relu activation function, with Adam Solver\n",
      "Best rMSE for NN, using test data: 16205418.529503569\n",
      "Best rSquared for NN, using test data:-12337216793464.986\n",
      "Best rMSE for NN, using holdout data: 7245895.5763743995\n",
      "Best rSquared for NN, using holdout data: -42878254825596.99\n",
      "\n",
      "\n"
     ]
    }
   ],
   "source": [
    "findBestParametersNN(LineaReggressionMetrics.R_SQUARED)"
   ]
  },
  {
   "cell_type": "markdown",
   "metadata": {},
   "source": [
    "## Load Saved Neural Network Models and Print out performance"
   ]
  },
  {
   "cell_type": "code",
   "execution_count": 310,
   "metadata": {},
   "outputs": [
    {
     "data": {
      "image/png": "[encoded data removed]",
      "text/plain": [
       "<matplotlib.figure.Figure at 0x7f02a6b0f198>"
      ]
     },
     "metadata": {},
     "output_type": "display_data"
    },
    {
     "data": {
      "image/png": "[encoded data removed]",
      "text/plain": [
       "<matplotlib.figure.Figure at 0x7f02f400ca58>"
      ]
     },
     "metadata": {},
     "output_type": "display_data"
    }
   ],
   "source": [
    "## Load NN model with best root mean squared error score \n",
    "fileName = \"results/\" + \"bestNNModel_\" + str(LineaReggressionMetrics.ROOT_MEAN_SQUARED_ERROR.name) + \".sav\"\n",
    "bestNNModel_rMse = loadModel(fileName)\n",
    "saveToFile = False\n",
    "\n",
    "if(bestNNModel_rMse):\n",
    "    y_pred_holdout = bestNNModel_rMse.predict(X_test_holdout)\n",
    "    holdOutMeanSquaredError = sqrt(mean_squared_error(y_test_holdout, y_pred_holdout))\n",
    "    heading = \"Best_rMSE_Neural_Networks\" + str(holdOutMeanSquaredError)\n",
    "    plotExpectedVsPredictedOutput(y_test_holdout,y_pred_holdout,heading,saveToFile)\n",
    "\n",
    "## Load NN model with best rSquared Score\n",
    "fileName = \"results/\" + \"bestNNModel_\" + str(LineaReggressionMetrics.R_SQUARED.name) + \".sav\"\n",
    "bestNNModel_rSquared = loadModel(fileName)\n",
    "\n",
    "if(bestNNModel_rSquared):\n",
    "    y_pred_holdout = bestNNModel_rSquared.predict(X_test_holdout)\n",
    "    holdOutValidationR2Squared = r2_score(y_test_holdout, y_pred_holdout)\n",
    "    heading = \"Best_rRSquared_Neural_Networks\" + str(holdOutValidationR2Squared)\n",
    "    plotExpectedVsPredictedOutput(y_test_holdout,y_pred_holdout,heading,saveToFile)"
   ]
  },
  {
   "cell_type": "code",
   "execution_count": 315,
   "metadata": {},
   "outputs": [
    {
     "name": "stdout",
     "output_type": "stream",
     "text": [
      "Predicted value of example ICO after 6 months:  [1.09322978]\n"
     ]
    }
   ],
   "source": [
    "# Load model with best rMse and make prediction\n",
    "fileName = \"results/\" + \"bestNNModel_\" + str(LineaReggressionMetrics.ROOT_MEAN_SQUARED_ERROR.name) + \".sav\"\n",
    "bestNN = joblib.load(fileName)\n",
    "\n",
    "#Example ICO\n",
    "example_x = np.array([1.71456,0.00019931,1000000000,905793616,528295082,24000000,297.63,3420.4,7,8,9,182])\n",
    "\n",
    "y_pred = makePrediction(bestNN,example_x)\n",
    "\n",
    "print(\"Predicted value of example ICO after 6 months: \",y_pred )"
   ]
  },
  {
   "cell_type": "code",
   "execution_count": null,
   "metadata": {},
   "outputs": [],
   "source": []
  }
 ],
 "metadata": {
  "colab": {
   "collapsed_sections": [
    "vJZ8SkDpRCwT",
    "gRz2LpOpRCwa",
    "3zM_DKqZRCwd",
    "BvnGW0DGRCwj",
    "jJNJP_aQRCwo",
    "XeOCgjfORCws",
    "NEt4SLsuRCw3",
    "iSHmw89DRCw5",
    "T7R-pWydRCw_",
    "9ysOBwzTRCxD",
    "Q1aXvaGARCxE",
    "dH7two-dRCxH"
   ],
   "include_colab_link": true,
   "name": "ICOData.ipynb",
   "provenance": [],
   "version": "0.3.2"
  },
  "kernelspec": {
   "display_name": "Python 3",
   "language": "python",
   "name": "python3"
  },
  "language_info": {
   "codemirror_mode": {
    "name": "ipython",
    "version": 3
   },
   "file_extension": ".py",
   "mimetype": "text/x-python",
   "name": "python",
   "nbconvert_exporter": "python",
   "pygments_lexer": "ipython3",
   "version": "3.6.4"
  }
 },
 "nbformat": 4,
 "nbformat_minor": 1
}
